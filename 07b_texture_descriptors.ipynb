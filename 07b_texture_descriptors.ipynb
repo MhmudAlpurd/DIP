{
 "cells": [
  {
   "cell_type": "markdown",
   "metadata": {},
   "source": [
    "## 07 - Image descriptors\n",
    "\n",
    "\n",
    "### Part 2 - Texture features\n",
    "\n",
    "Consider not only the absolute value (color/intensity) of pixels, but relationships between pixel values within a image region\n",
    "* a given color found in a flat region differs from the same color found in a region with high variance\n",
    "* texture descriptors allow to differentiate between patterns of pixel variances \n",
    "\n",
    "Althouth there are various texture descriptors in the literature, here we focus on LBP (Local Binary Patterns) as implemented in `scikit-image` package."
   ]
  },
  {
   "cell_type": "code",
   "execution_count": null,
   "metadata": {},
   "outputs": [],
   "source": [
    "import numpy as np\n",
    "import matplotlib.pyplot as plt\n",
    "import matplotlib as mpl\n",
    "import imageio\n",
    "\n",
    "from skimage import feature"
   ]
  },
  {
   "cell_type": "markdown",
   "metadata": {},
   "source": [
    "Texture has semantic that explain the way elements relate to each other visually\n",
    "\n",
    "---\n",
    "### Texture features\n",
    "\n",
    "| Texture | Example | Texture | Example\n",
    "|:---:|:---:|:---:|:---:|\n",
    "| Interlaced | ![Interlaced](images/texture/texture_interlaced.jpg)|  Bubbly | ![Bubbly](images/texture/texture_bubbly.jpg)|\n",
    "| Sprinkled | ![Sprinkled](images/texture/texture_sprinkled.jpg)| Dotted | ![Dotted](images/texture/texture_dotted2.jpg)|\n",
    "| Braided | ![Braided](images/texture/texture_braided.jpg)| Chequered | ![Chequered](images/texture/texture_chequered.jpg)|\n",
    "    "
   ]
  },
  {
   "cell_type": "markdown",
   "metadata": {},
   "source": [
    "**Local Binary Patterns (LBP)** and variants is an efficient descriptor for analysis of texture\n",
    "\n",
    "It codifies local patterns in which each pixel is compared with neighbours using the value of the central pixel as threshold:\n",
    "* values greater or equal to the central pixels outputs 1\n",
    "* values lower than the central pixel outputs 0\n",
    "\n",
    "<img src=\"images/texture/LBP.png\" width=380></img>\n",
    "\n",
    "OBS: the code depends on where you begin in the sampled points.\n",
    "\n",
    "Considering 8 sampled pixels in the neighborhood, there are $2^8 = 256$ unique codes, which are associated with local shape patterns:\n",
    "\n",
    "<img src=\"images/texture/LBP2.png\" width=600></img>\n",
    "\n",
    "58 are called uniform, and the remaining non-uniform (with more than two transitions between 1s and 0s).\n",
    "\n",
    "However in `skimage`, uniform are also rotation invariant codes: an edge represented as 00001111 is considered to be in the same bin as 00111100. Therefore with 8 points we have 10 bins representing:\n",
    "* 9 bins for rotation-invariant uniform codes\n",
    "* 1 bin all other non-uniform codes."
   ]
  },
  {
   "cell_type": "code",
   "execution_count": null,
   "metadata": {},
   "outputs": [],
   "source": [
    "def lbp_features(img, radius=1, sampling_pixels=8):\n",
    "    \n",
    "    # LBP operates in single channel images so if RGB images are provided\n",
    "    # we have to convert it to grayscale\n",
    "    if (len(img.shape) > 2):\n",
    "        img = img.astype(float)\n",
    "        # RGB to grayscale convertion using Luminance\n",
    "        img = img[:,:,0]*0.3 + img[:,:,1]*0.59 + img[:,:,2]*0.11\n",
    "\n",
    "    # converting to uint8 type for 256 graylevels\n",
    "    img = img.astype(np.uint8)\n",
    "    \n",
    "    # normalize values can also help improving description\n",
    "    i_min = np.min(img)\n",
    "    i_max = np.max(img)\n",
    "    if (i_max - i_min != 0):\n",
    "        img = (img - i_min)/(i_max-i_min)\n",
    "    \n",
    "    # compute LBP\n",
    "    lbp = feature.local_binary_pattern(img, sampling_pixels, radius, method=\"uniform\")\n",
    "    \n",
    "    # LBP returns a matrix with the codes, so we compute the histogram\n",
    "    (hist, _) = np.histogram(lbp.ravel(), bins=np.arange(0, sampling_pixels + 3), range=(0, sampling_pixels + 2))\n",
    "\n",
    "    # normalization\n",
    "    hist = hist.astype(\"float\")\n",
    "    hist /= (hist.sum() + 1e-6)\n",
    "    # return the histogram of Local Binary Patterns\n",
    "    return hist\n",
    "\n",
    "def Euclidean_distance(p, q):\n",
    "    dist = np.sqrt(np.sum(np.square(p-q)))\n",
    "    return dist"
   ]
  },
  {
   "cell_type": "code",
   "execution_count": null,
   "metadata": {},
   "outputs": [],
   "source": [
    "img1 = imageio.imread(\"images/texture/texture_dotted.jpg\")\n",
    "img2 = imageio.imread(\"images/texture/texture_dotted3.jpg\")\n",
    "img3 = imageio.imread(\"images/texture/texture_dotted2.jpg\")\n",
    "img4 = imageio.imread(\"images/texture/texture_interlaced.jpg\")\n",
    "img5 = imageio.imread(\"images/texture/texture_chequered.jpg\")\n",
    "img6 = imageio.imread(\"images/texture/texture_sprinkled.jpg\")\n",
    "\n",
    "lbp1 = lbp_features(img1,2,8)\n",
    "lbp2 = lbp_features(img2,2,8)\n",
    "lbp3 = lbp_features(img3,2,8)\n",
    "lbp4 = lbp_features(img4,2,8)\n",
    "lbp5 = lbp_features(img5,2,8)\n",
    "lbp6 = lbp_features(img6,2,8)\n",
    "\n",
    "dQ2_H = Euclidean_distance(lbp1, lbp2)\n",
    "dQ3_H = Euclidean_distance(lbp1, lbp3)\n",
    "dQ4_H = Euclidean_distance(lbp1, lbp4)\n",
    "dQ5_H = Euclidean_distance(lbp1, lbp5)\n",
    "dQ6_H = Euclidean_distance(lbp1, lbp6)"
   ]
  },
  {
   "cell_type": "code",
   "execution_count": null,
   "metadata": {},
   "outputs": [],
   "source": [
    "plt.figure(figsize=(10,8))\n",
    "plt.subplot(231); plt.imshow(img1); plt.title('Query')\n",
    "plt.subplot(232); plt.imshow(img3); plt.title('Rank 1 : %.4f' % dQ3_H)\n",
    "plt.subplot(233); plt.imshow(img2); plt.title('Rank 2 : %.4f' % dQ2_H)\n",
    "plt.subplot(234); plt.imshow(img4); plt.title('Rank 3 : %.4f' % dQ4_H)\n",
    "plt.subplot(235); plt.imshow(img5); plt.title('Rank 4 : %.4f' % dQ5_H)\n",
    "plt.subplot(236); plt.imshow(img6); plt.title('Rank 5 : %.4f' % dQ6_H)"
   ]
  },
  {
   "cell_type": "code",
   "execution_count": null,
   "metadata": {},
   "outputs": [],
   "source": [
    "vals = range(len(lbp1))\n",
    "plt.figure(figsize=(10,5))\n",
    "plt.subplot(231); plt.bar(vals,lbp1); \n",
    "plt.title('Query'); plt.axis('off')\n",
    "plt.subplot(232); plt.bar(vals,lbp3); \n",
    "plt.title('Rank 1'); plt.axis('off')\n",
    "plt.subplot(233); plt.bar(vals,lbp2); \n",
    "plt.title('Rank 2'); plt.axis('off')\n",
    "plt.subplot(234); plt.bar(vals,lbp4); \n",
    "plt.title('Rank 3'); plt.axis('off')\n",
    "plt.subplot(235); plt.bar(vals,lbp5); \n",
    "plt.title('Rank 4'); plt.axis('off')\n",
    "plt.subplot(236); plt.bar(vals,lbp6); \n",
    "plt.title('Rank 5'); plt.axis('off')"
   ]
  }
 ],
 "metadata": {
  "kernelspec": {
   "display_name": "Python 3 (ipykernel)",
   "language": "python",
   "name": "python3"
  },
  "language_info": {
   "codemirror_mode": {
    "name": "ipython",
    "version": 3
   },
   "file_extension": ".py",
   "mimetype": "text/x-python",
   "name": "python",
   "nbconvert_exporter": "python",
   "pygments_lexer": "ipython3",
   "version": "3.10.6"
  }
 },
 "nbformat": 4,
 "nbformat_minor": 2
}
