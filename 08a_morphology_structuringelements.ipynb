{
 "cells": [
  {
   "cell_type": "markdown",
   "metadata": {},
   "source": [
    "## 08 - Mathematical morphology\n",
    "\n",
    "To implement image processing with mathematical morphology we have to:\n",
    "1. define a structuring element\n",
    "2. slide this element through the image\n",
    "3. modify the image according to how the structuring element locally matches the pixels"
   ]
  },
  {
   "cell_type": "code",
   "execution_count": null,
   "metadata": {},
   "outputs": [],
   "source": [
    "import numpy as np\n",
    "import imageio\n",
    "from skimage import morphology\n",
    "import matplotlib.pyplot as plt"
   ]
  },
  {
   "cell_type": "markdown",
   "metadata": {},
   "source": [
    "**morphology** contains the main structuring element shapes. The *disk* is one of the most widely use because it is smooth"
   ]
  },
  {
   "cell_type": "code",
   "execution_count": null,
   "metadata": {},
   "outputs": [],
   "source": [
    "morphology.disk(3)"
   ]
  },
  {
   "cell_type": "markdown",
   "metadata": {},
   "source": [
    "However, we can import other structuring elements"
   ]
  },
  {
   "cell_type": "code",
   "execution_count": null,
   "metadata": {},
   "outputs": [],
   "source": [
    "from skimage.morphology import (square, rectangle, diamond, disk, star)"
   ]
  },
  {
   "cell_type": "code",
   "execution_count": null,
   "metadata": {},
   "outputs": [],
   "source": [
    "diamond(3)"
   ]
  },
  {
   "cell_type": "code",
   "execution_count": null,
   "metadata": {},
   "outputs": [],
   "source": [
    "disk(3)"
   ]
  },
  {
   "cell_type": "code",
   "execution_count": null,
   "metadata": {},
   "outputs": [],
   "source": [
    "struc_elem_2d = [square(7), rectangle(7, 11), diamond(7), disk(7),  star(7)]"
   ]
  },
  {
   "cell_type": "code",
   "execution_count": null,
   "metadata": {},
   "outputs": [],
   "source": [
    "fig = plt.figure(figsize=(12, 6))\n",
    "\n",
    "idx = 1\n",
    "for struc in struc_elem_2d:\n",
    "    ax = fig.add_subplot(1, 5, idx)\n",
    "    ax.imshow(struc, cmap=\"Paired\", vmin=0, vmax=10)\n",
    "    \n",
    "    idx += 1"
   ]
  },
  {
   "cell_type": "markdown",
   "metadata": {},
   "source": [
    "We can also design our own structuring element"
   ]
  },
  {
   "cell_type": "code",
   "execution_count": null,
   "metadata": {},
   "outputs": [],
   "source": [
    "my_struc = np.zeros([9,9])\n",
    "my_struc[3:6] = 1\n",
    "my_struc[:,4] = 1\n",
    "my_struc"
   ]
  },
  {
   "cell_type": "code",
   "execution_count": null,
   "metadata": {},
   "outputs": [],
   "source": [
    "plt.imshow(my_struc, cmap=\"Paired\", vmax=10)"
   ]
  },
  {
   "cell_type": "markdown",
   "metadata": {},
   "source": [
    "---\n",
    "\n",
    "Let us try some basic operators on an image!"
   ]
  },
  {
   "cell_type": "code",
   "execution_count": null,
   "metadata": {},
   "outputs": [],
   "source": [
    "imgbin = imageio.imread(\"images/morpho.png\")\n",
    "plt.imshow(imgbin, cmap=\"gray\")"
   ]
  },
  {
   "cell_type": "markdown",
   "metadata": {},
   "source": [
    "### Erosion\n",
    "\n",
    "All local pixels of the image have to overlap those of the structuring element\n",
    "* minimum filter: replace the value of a pixel by the minimal value covered by the structuring element."
   ]
  },
  {
   "cell_type": "code",
   "execution_count": null,
   "metadata": {},
   "outputs": [],
   "source": [
    "img_er1 = morphology.binary_erosion(imgbin, morphology.disk(1)).astype(np.uint8)\n",
    "img_er3 = morphology.binary_erosion(imgbin, morphology.disk(7)).astype(np.uint8)\n",
    "\n",
    "fig = plt.figure(figsize=(16, 6))\n",
    "plt.subplot(1, 3, 1); plt.imshow(imgbin, cmap=\"gray\")\n",
    "plt.subplot(1, 3, 2); plt.imshow(img_er1, cmap=\"gray\"); plt.title(\"erosion with disk 1\")\n",
    "plt.subplot(1, 3, 3); plt.imshow(img_er3, cmap=\"gray\"); plt.title(\"erosion with disk 7\")"
   ]
  },
  {
   "cell_type": "markdown",
   "metadata": {},
   "source": [
    "### Dilation\n",
    "\n",
    "At least one local pixel of the image have to overlap those of the structuring element\n",
    "* maximum filter: replace the value of a pixel by the maximum value covered by the structuring element."
   ]
  },
  {
   "cell_type": "code",
   "execution_count": null,
   "metadata": {},
   "outputs": [],
   "source": [
    "img_di1 = morphology.binary_dilation(imgbin, morphology.star(1)).astype(np.uint8)\n",
    "img_di3 = morphology.binary_dilation(imgbin, morphology.star(7)).astype(np.uint8)\n",
    "\n",
    "fig = plt.figure(figsize=(16, 6))\n",
    "plt.subplot(1, 3, 1); plt.imshow(imgbin, cmap=\"gray\")\n",
    "plt.subplot(1, 3, 2); plt.imshow(img_di1, cmap=\"gray\"); plt.title(\"dilation with disk 1\")\n",
    "plt.subplot(1, 3, 3); plt.imshow(img_di3, cmap=\"gray\"); plt.title(\"dilation with disk 7\")"
   ]
  },
  {
   "cell_type": "markdown",
   "metadata": {},
   "source": [
    "The effect of different structuring elements"
   ]
  },
  {
   "cell_type": "code",
   "execution_count": null,
   "metadata": {},
   "outputs": [],
   "source": [
    "cross_4 = np.zeros([9,9])\n",
    "cross_4[:,4] = 1\n",
    "cross_4[4,:] = 1\n",
    "cross_4"
   ]
  },
  {
   "cell_type": "code",
   "execution_count": null,
   "metadata": {},
   "outputs": [],
   "source": [
    "disk(4)"
   ]
  },
  {
   "cell_type": "code",
   "execution_count": null,
   "metadata": {},
   "outputs": [],
   "source": [
    "img_dd = morphology.binary_dilation(imgbin, morphology.disk(4)).astype(np.uint8)\n",
    "img_dc = morphology.binary_dilation(imgbin, cross_4).astype(np.uint8)\n",
    "img_ed = morphology.binary_erosion(imgbin, morphology.disk(4)).astype(np.uint8)\n",
    "img_ec = morphology.binary_erosion(imgbin, cross_4).astype(np.uint8)\n",
    "\n",
    "fig = plt.figure(figsize=(10, 15))\n",
    "plt.subplot(3, 2, 1); plt.imshow(imgbin, cmap=\"gray\")\n",
    "plt.subplot(3, 2, 3); plt.imshow(img_dd, cmap=\"gray\"); plt.title(\"dilation disk\")\n",
    "plt.subplot(3, 2, 4); plt.imshow(img_dc, cmap=\"gray\"); plt.title(\"dilation cross\")\n",
    "plt.subplot(3, 2, 5); plt.imshow(img_ed, cmap=\"gray\"); plt.title(\"erosion disk\")\n",
    "plt.subplot(3, 2, 6); plt.imshow(img_ec, cmap=\"gray\"); plt.title(\"erosion cross\")"
   ]
  },
  {
   "cell_type": "code",
   "execution_count": null,
   "metadata": {},
   "outputs": [],
   "source": []
  }
 ],
 "metadata": {
  "kernelspec": {
   "display_name": "Python 3 (ipykernel)",
   "language": "python",
   "name": "python3"
  },
  "language_info": {
   "codemirror_mode": {
    "name": "ipython",
    "version": 3
   },
   "file_extension": ".py",
   "mimetype": "text/x-python",
   "name": "python",
   "nbconvert_exporter": "python",
   "pygments_lexer": "ipython3",
   "version": "3.10.6"
  }
 },
 "nbformat": 4,
 "nbformat_minor": 2
}
