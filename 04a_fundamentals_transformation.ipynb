{
 "cells": [
  {
   "cell_type": "markdown",
   "id": "minor-deputy",
   "metadata": {},
   "source": [
    "### 04 - Fundamental concepts for image transformation and Fourier Transform"
   ]
  },
  {
   "cell_type": "code",
   "execution_count": null,
   "id": "accredited-plant",
   "metadata": {},
   "outputs": [],
   "source": [
    "import numpy as np\n",
    "import matplotlib.pyplot as plt"
   ]
  },
  {
   "cell_type": "markdown",
   "id": "detailed-digit",
   "metadata": {},
   "source": [
    "### Part A - Representations of functions"
   ]
  },
  {
   "cell_type": "code",
   "execution_count": null,
   "id": "dedicated-pierce",
   "metadata": {},
   "outputs": [],
   "source": [
    "x = np.arange(-1, 0.9, 0.01) # values in which the function is evaluated at\n",
    "f = 5 + 2*x + x**2   # polynomial with coefficients 5, 2 and 1\n",
    "\n",
    "plt.figure(figsize=(20,4))\n",
    "plt.plot(x,f, '.-')"
   ]
  },
  {
   "cell_type": "code",
   "execution_count": null,
   "id": "democratic-eclipse",
   "metadata": {},
   "outputs": [],
   "source": [
    "sx = np.zeros(round(len(x)/20.0))\n",
    "sf = np.zeros(round(len(x)/20.0))\n",
    "print(sx)\n",
    "print(sf)"
   ]
  },
  {
   "cell_type": "code",
   "execution_count": null,
   "id": "handy-sunrise",
   "metadata": {},
   "outputs": [],
   "source": [
    "# sampling 10 points\n",
    "j = 0\n",
    "for i in range(0, len(x)+1, 21):\n",
    "    print(\"%.2f, %.2f\" % (x[i], f[i]))\n",
    "    sx[j] = x[i]\n",
    "    sf[j] = f[i]    \n",
    "    j = j+1"
   ]
  },
  {
   "cell_type": "code",
   "execution_count": null,
   "id": "commercial-satisfaction",
   "metadata": {},
   "outputs": [],
   "source": [
    "Y = sf\n",
    "N = 2 # degree of polynomial\n",
    "\n",
    "A = np.zeros( [ len(Y), N+1] )\n",
    "A[:,0] = sx**N\n",
    "A[:,1] = sx**(N-1)\n",
    "A[:,2] = 1\n",
    "print(A)"
   ]
  },
  {
   "cell_type": "code",
   "execution_count": null,
   "id": "filled-kennedy",
   "metadata": {},
   "outputs": [],
   "source": [
    "from numpy.linalg import inv\n",
    "\n",
    "C1 = inv(np.matmul(np.transpose(A), A))\n",
    "C2 = np.matmul(np.transpose(A), Y)\n",
    "C = np.matmul(C1, C2)\n",
    "print(C)"
   ]
  },
  {
   "cell_type": "markdown",
   "id": "parallel-redhead",
   "metadata": {},
   "source": [
    "### Part B - Sinusoids and Complex Exponentials\n",
    "\n",
    "Remember we want functions with the property:\n",
    "\n",
    "$f(t) = f(t+ k T)$,\n",
    "in which $T$ is the period and $k=0,1,\\ldots$\n",
    "\n",
    "Let us see in practice the mathematical properties of sinusoids for such scenario"
   ]
  },
  {
   "cell_type": "code",
   "execution_count": null,
   "id": "unlike-score",
   "metadata": {},
   "outputs": [],
   "source": [
    "# evaluating sine at t=2.5\n",
    "t = 2.5\n",
    "print(\"%.3f\" % (np.sin(t)))\n",
    "\n",
    "# now let us evaluate it at t + the period 2 PI\n",
    "T = 2*np.pi\n",
    "print(\"%.3f\" % (np.sin(t+T)))"
   ]
  },
  {
   "cell_type": "markdown",
   "id": "marked-marketing",
   "metadata": {},
   "source": [
    "In fact any multiple of 2 PI will have the same value!"
   ]
  },
  {
   "cell_type": "code",
   "execution_count": null,
   "id": "tight-conspiracy",
   "metadata": {},
   "outputs": [],
   "source": [
    "for i in range(5):\n",
    "    print(\"%d %.3f\" % (i, np.sin(t+T*i)))"
   ]
  },
  {
   "cell_type": "code",
   "execution_count": null,
   "id": "sunset-transcription",
   "metadata": {},
   "outputs": [],
   "source": [
    "for i in range(5):\n",
    "    print(\"%d %.3f\" % (i, np.cos(t+T*i)))"
   ]
  },
  {
   "cell_type": "markdown",
   "id": "colonial-payment",
   "metadata": {},
   "source": [
    "Visualizing 5 repetitions of the cosine and sine pattern below, we see that those have the same *shape* however they differ because they are shifted with respect to each other"
   ]
  },
  {
   "cell_type": "code",
   "execution_count": null,
   "id": "higher-cherry",
   "metadata": {
    "scrolled": true
   },
   "outputs": [],
   "source": [
    "t = np.arange(0, T*5, 0.1)\n",
    "\n",
    "fcos = np.cos(t)\n",
    "fsin = np.sin(t)\n",
    "\n",
    "plt.figure(figsize=(9,3))\n",
    "plt.plot(t, fcos)\n",
    "plt.plot(t, fsin)"
   ]
  },
  {
   "cell_type": "markdown",
   "id": "human-foundation",
   "metadata": {},
   "source": [
    "This shift allow us to define the unitary circle in terms of sine and cosine\n",
    "\n",
    "This is important because, when relating sine and cosine we can form the simplest periodic object. Note also that the circle may be formed by a single repetition of both sine and cosine, although we are using 5 of them."
   ]
  },
  {
   "cell_type": "code",
   "execution_count": null,
   "id": "impressed-double",
   "metadata": {},
   "outputs": [],
   "source": [
    "plt.figure(figsize=(4,4))\n",
    "plt.plot(fcos, fsin)"
   ]
  },
  {
   "cell_type": "code",
   "execution_count": null,
   "id": "instrumental-summer",
   "metadata": {},
   "outputs": [],
   "source": [
    "# weighing both coordinates allows for different shapes and elipses\n",
    "fcos = 4*np.cos(t)\n",
    "fsin = 2*np.sin(t)\n",
    "plt.plot(fcos, fsin)"
   ]
  },
  {
   "cell_type": "code",
   "execution_count": null,
   "id": "numerous-lobby",
   "metadata": {},
   "outputs": [],
   "source": [
    "plt.figure(figsize=(9,3))\n",
    "plt.plot(t, fcos)\n",
    "plt.plot(t, fsin)"
   ]
  },
  {
   "cell_type": "markdown",
   "id": "generic-weekly",
   "metadata": {},
   "source": [
    "#### Complex numbers and their relationship with periodic functions\n",
    "\n",
    "To create a complex number in Python we use the letter \"j\""
   ]
  },
  {
   "cell_type": "code",
   "execution_count": null,
   "id": "foster-softball",
   "metadata": {},
   "outputs": [],
   "source": [
    "complex_number = (3 + 2j)\n",
    "print(complex_number)"
   ]
  },
  {
   "cell_type": "markdown",
   "id": "adjacent-feelings",
   "metadata": {},
   "source": [
    "It can be seen basically as a vector, a representation of two numbers into one:"
   ]
  },
  {
   "cell_type": "code",
   "execution_count": null,
   "id": "excessive-coalition",
   "metadata": {},
   "outputs": [],
   "source": [
    "print(complex_number.real)\n",
    "print(complex_number.imag)"
   ]
  },
  {
   "cell_type": "markdown",
   "id": "designing-lease",
   "metadata": {},
   "source": [
    "If I compute the exponential of a complex number, the result is also complex:"
   ]
  },
  {
   "cell_type": "code",
   "execution_count": null,
   "id": "painful-collar",
   "metadata": {},
   "outputs": [],
   "source": [
    "expon_2_5 = np.exp(2.5j)\n",
    "print(expon_2_5)"
   ]
  },
  {
   "cell_type": "code",
   "execution_count": null,
   "id": "pleasant-emperor",
   "metadata": {},
   "outputs": [],
   "source": [
    "print(\"Real part: %.4f, Imaginary part = %.4f\" % (expon_2_5.real, expon_2_5.imag))"
   ]
  },
  {
   "cell_type": "markdown",
   "id": "willing-liabilities",
   "metadata": {},
   "source": [
    "But note that this related to cosine and sine, so the exponential evaluated at 2.5 results in real and imaginary components that are in fact cosine and sine evaluated at 2.5, respectively"
   ]
  },
  {
   "cell_type": "code",
   "execution_count": null,
   "id": "center-function",
   "metadata": {},
   "outputs": [],
   "source": [
    "print(\"Cosine: %.4f, Sine = %.4f\" % (np.cos(2.5), np.sin(2.5)))"
   ]
  },
  {
   "cell_type": "code",
   "execution_count": null,
   "id": "operational-auction",
   "metadata": {},
   "outputs": [],
   "source": []
  }
 ],
 "metadata": {
  "kernelspec": {
   "display_name": "Python 3 (ipykernel)",
   "language": "python",
   "name": "python3"
  },
  "language_info": {
   "codemirror_mode": {
    "name": "ipython",
    "version": 3
   },
   "file_extension": ".py",
   "mimetype": "text/x-python",
   "name": "python",
   "nbconvert_exporter": "python",
   "pygments_lexer": "ipython3",
   "version": "3.10.6"
  }
 },
 "nbformat": 4,
 "nbformat_minor": 5
}
