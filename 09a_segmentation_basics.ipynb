{
 "cells": [
  {
   "cell_type": "markdown",
   "metadata": {},
   "source": [
    "## 09 - Image segmentation\n",
    "\n",
    "#### Part 1 - Threshold and region-based segmentation\n",
    "\n",
    "Thresholding and pixel aggregation are simple yet those are used as building blocks of more complex algorithms."
   ]
  },
  {
   "cell_type": "code",
   "execution_count": null,
   "metadata": {},
   "outputs": [],
   "source": [
    "import numpy as np\n",
    "import imageio\n",
    "import matplotlib.pyplot as plt"
   ]
  },
  {
   "cell_type": "markdown",
   "metadata": {},
   "source": [
    "Image segmentation is the process of dividing the image into regions so that the pixels within a given region are related according to some criterion. Depending on the problem, the criterion may be subjective making it difficult to produce an accurate segmentation.\n",
    "\n",
    "Therefore, many different segmentation approaches were explored in the image processing literature, often based on thresholding of intensity (or colour) values, and on finding discontinuities on image pixels.\n",
    "\n",
    "### Part 1 - Thresholding-based segmentation\n",
    "In this approach, segmentation is performed by dividing pixels into two or more categories or classes. We can interpret this as finding a threshold in the image histogram, or performing a point operation over all pixels values $r$ in the image given a threshold value $L$:\n",
    "$$s= T(r,L) =  \\left\\lbrace \n",
    "        \\begin{array}{ll}\n",
    "                    1 &, \\text{ if } r > L,\\\\\n",
    "                    0 &, \\text{ otherwise}.\n",
    "        \\end{array} \\right.$$\n",
    "        \n",
    "In order to visualize this idea, let us create a toy example using a random image and look at its histogram"
   ]
  },
  {
   "cell_type": "code",
   "execution_count": null,
   "metadata": {},
   "outputs": [],
   "source": [
    "# Let us create a random matrix and threshold it\n",
    "np.random.seed(333) # defining a seed\n",
    "# random image with 10x10 size\n",
    "f = np.random.randint(0,8, [10,10])\n",
    "plt.imshow(f,cmap=\"gray\")"
   ]
  },
  {
   "cell_type": "code",
   "execution_count": null,
   "metadata": {},
   "outputs": [],
   "source": [
    "hist,_ = np.histogram(f, bins=8, range=(0,8))\n",
    "plt.bar(np.arange(0,8), hist)"
   ]
  },
  {
   "cell_type": "markdown",
   "metadata": {},
   "source": [
    "A function to threshold a given image can be written as follows. Note that, when applying different threshold values, we change the amount of black and white pixels on the resulting image. A lower threshold allows more white (value 1) pixels."
   ]
  },
  {
   "cell_type": "code",
   "execution_count": null,
   "metadata": {},
   "outputs": [],
   "source": [
    "def thresholding(f, L):\n",
    "    # create a new image with zeros\n",
    "    f_tr = np.ones(f.shape).astype(np.uint8)\n",
    "    # setting to 0 the pixels below the threshold\n",
    "    f_tr[np.where(f < L)] = 0\n",
    "    return f_tr    "
   ]
  },
  {
   "cell_type": "code",
   "execution_count": null,
   "metadata": {},
   "outputs": [],
   "source": [
    "f_thres6 = thresholding(f, 6)\n",
    "hist_t6,_ = np.histogram(f_thres6*7, bins=8, range=(0,8))\n",
    "\n",
    "f_thres4 = thresholding(f, 4)\n",
    "hist_t4,_ = np.histogram(f_thres4*7, bins=8, range=(0,8))\n",
    "\n",
    "plt.figure(figsize=(9,9))\n",
    "plt.subplot(321); plt.imshow(f,cmap=\"gray\"); plt.axis('off')\n",
    "plt.subplot(322); plt.bar(np.arange(0,8), hist)\n",
    "plt.subplot(323); plt.imshow(f_thres6,cmap=\"gray\"); plt.axis('off'); plt.title('Threshold 6')\n",
    "plt.subplot(324); plt.bar(np.arange(0,8), hist_t6)\n",
    "plt.subplot(325); plt.imshow(f_thres4,cmap=\"gray\"); plt.axis('off'); plt.title('Threshold 4')\n",
    "plt.subplot(326); plt.bar(np.arange(0,8), hist_t4) "
   ]
  },
  {
   "cell_type": "markdown",
   "metadata": {},
   "source": [
    "Let us use the same function but now for a real image. The mean intensity value is used as threshold in this example."
   ]
  },
  {
   "cell_type": "code",
   "execution_count": null,
   "metadata": {},
   "outputs": [],
   "source": [
    "img = imageio.imread(\"images/board.jpg\")\n",
    "\n",
    "mean_v = np.mean(img)\n",
    "img_t = thresholding(img, mean_v)\n",
    "\n",
    "hist_img,_ = np.histogram(img, bins=256, range=(0,256))\n",
    "hist_t,_ = np.histogram(img_t*255, bins=256, range=(0,256))\n",
    "\n",
    "plt.figure(figsize=(9,9))\n",
    "plt.subplot(221); plt.imshow(img,cmap=\"gray\"); plt.axis('off')\n",
    "plt.subplot(222); plt.bar(np.arange(0,256), hist_img)\n",
    "plt.subplot(223); plt.imshow(img_t, cmap=\"gray\"); plt.axis('off'); plt.title('Mean intensity threshold (%.2f)' % (mean_v))\n",
    "plt.subplot(224); plt.bar(np.arange(0,256), hist_t)"
   ]
  },
  {
   "cell_type": "markdown",
   "metadata": {},
   "source": [
    "As noted, defining a proper threshold may be difficult. \n",
    "\n",
    "There are automatic ways to find an *global optimum threshold* assuming the intensity distribution is bimodal. The most well known method was proposed by Otsu and performs a search along all possible threshold values, choosing the threshold that minimises the intra-group variance. By *group* we mean two group of pixels $a$ and $b$ in which we want to divide the image into. \n",
    "\n",
    "Let $\\sigma^2(L_i)$ be the intra-group variance when using threshold $L_i$. This can be computed by the weighted sum of variances $\\sigma^2_a$ and $\\sigma^2_b$ relative to groups $G_a$ and $G_b$:\n",
    " $$\\sigma^2(L_i) = w_a\\sigma^2_a(L_i) + w_b\\sigma^2_b(L_i)$$\n",
    " \n",
    "The global optimum threshold is found by minimizing the variance:\n",
    "$$L^* = \\arg\\min_{L_i} [ \\sigma^2(L_i)]$$\n"
   ]
  },
  {
   "cell_type": "code",
   "execution_count": null,
   "metadata": {},
   "outputs": [],
   "source": [
    "def otsu_threshold(img, max_L):\n",
    "    \n",
    "    M = np.product(img.shape)\n",
    "    min_var = []\n",
    "    hist_t,_ = np.histogram(img, bins=256, range=(0,256))\n",
    "    \n",
    "    img_t = thresholding(img, 0)\n",
    "    \n",
    "    for L in np.arange(1, max_L):\n",
    "        img_ti = thresholding(img, L)\n",
    "        # computing weights\n",
    "        w_a = np.sum(hist_t[:L])/float(M)\n",
    "        w_b = np.sum(hist_t[L:])/float(M)\n",
    "        # computing variances\n",
    "        sig_a = np.var(img[np.where(img_ti == 0)])\n",
    "        sig_b = np.var(img[np.where(img_ti == 1)])\n",
    "        \n",
    "        min_var = min_var + [w_a*sig_a + w_b*sig_b]\n",
    "        \n",
    "    img_t = thresholding(img, np.argmin(min_var))\n",
    "    \n",
    "    return img_t, np.argmin(min_var)"
   ]
  },
  {
   "cell_type": "code",
   "execution_count": null,
   "metadata": {
    "scrolled": true
   },
   "outputs": [],
   "source": [
    "img_o, OL = otsu_threshold(img, 255)\n",
    "\n",
    "hist_o,_ = np.histogram(img_o*255, bins=256, range=(0,256))\n",
    "\n",
    "plt.figure(figsize=(10,15))\n",
    "plt.subplot(321); plt.imshow(img,cmap=\"gray\"); plt.axis('off')\n",
    "plt.subplot(322); plt.bar(np.arange(0,256), hist_img)\n",
    "plt.subplot(323); plt.imshow(img_t, cmap=\"gray\"); plt.axis('off'); plt.title('Mean intensity threshold (%.2f)' % (mean_v))\n",
    "plt.subplot(324); plt.bar(np.arange(0,256), hist_t)\n",
    "plt.subplot(325); plt.imshow(img_o, cmap=\"gray\"); plt.axis('off'); plt.title('Otsu threshold (%d)' % (OL))\n",
    "plt.subplot(326); plt.bar(np.arange(0,256), hist_o)"
   ]
  },
  {
   "cell_type": "markdown",
   "metadata": {},
   "source": [
    "### Part 2 - Region growing\n",
    "\n",
    "Instead of using histograms, region growing uses seeds to define where to start processing, agreggating new pixels to the region.\n",
    "\n",
    "In this approach, it is paramount to define a suitable criterion for pixel conquering and also the stopping condition.\n",
    "\n",
    "The example below shows a type of Depth-first search on the 4 neigbours, starting with the seed pixel, and conquering new pixels if that pixel value is similar to the average of the current region"
   ]
  },
  {
   "cell_type": "code",
   "execution_count": null,
   "metadata": {},
   "outputs": [],
   "source": [
    "def distance(a, b):\n",
    "    return np.abs(a-b)\n",
    "\n",
    "def region_growing_average(img, img_t, tolerance, seed):\n",
    "    \n",
    "    #img_t = np.zeros(img.shape)\n",
    "    x = seed[0]; y = seed[1]\n",
    "\n",
    "    img_t[x, y] = 1\n",
    "    \n",
    "    avg = np.mean(img[np.where(img_t==1)])\n",
    "    \n",
    "    # check matrix border and conquering criterion for the 4-neigbourhood\n",
    "    if (y+1 < img.shape[1] and img_t[x,y+1] == 0 and distance(avg, img[x, y+1]) <= tolerance):\n",
    "        region_growing_average(img, img_t, tolerance, [x, y+1])\n",
    "        \n",
    "    if (y-1 >= 0 and img_t[x,y-1] == 0  and distance(avg, img[x, y-1]) <= tolerance):\n",
    "        region_growing_average(img, img_t, tolerance, [x, y-1])\n",
    "        \n",
    "    if (x+1 < img.shape[0] and img_t[x+1,y] == 0  and distance(avg, img[x+1, y]) <= tolerance):\n",
    "        region_growing_average(img, img_t, tolerance, [x+1, y])\n",
    "        \n",
    "    if (x-1 >= 0 and img_t[x-1,y] == 0  and distance(avg, img[x-1, y]) <= tolerance):\n",
    "        region_growing_average(img, img_t, tolerance, [x-1, y])\n",
    "        \n",
    "    #return img_t\n",
    "    "
   ]
  },
  {
   "cell_type": "markdown",
   "metadata": {},
   "source": [
    "Let us define an image with objects containing noise and see the influence of the criterion of tolerance for aggregating pixels"
   ]
  },
  {
   "cell_type": "code",
   "execution_count": null,
   "metadata": {},
   "outputs": [],
   "source": [
    "img_test = np.zeros([15,15])\n",
    "img_test[2:5, 4:12] = 100 + np.random.randint(0,3,[3, 8])\n",
    "img_test[5:13, 2:5] = 112 + np.random.randint(0,20,[8, 3])"
   ]
  },
  {
   "cell_type": "code",
   "execution_count": null,
   "metadata": {},
   "outputs": [],
   "source": [
    "img_seed1 = np.zeros(img_test.shape)\n",
    "img_seed2 = np.zeros(img_test.shape)\n",
    "img_seed3 = np.zeros(img_test.shape)\n",
    "\n",
    "region_growing_average(img_test, img_seed1, 8,  [6,3])\n",
    "region_growing_average(img_test, img_seed2, 16, [6,3])\n",
    "region_growing_average(img_test, img_seed3, 24, [6,3])"
   ]
  },
  {
   "cell_type": "code",
   "execution_count": null,
   "metadata": {},
   "outputs": [],
   "source": [
    "plt.figure(figsize=(10,10))\n",
    "plt.subplot(221); plt.imshow(img_test,cmap=\"gray\"); plt.axis('off')\n",
    "plt.subplot(222); plt.imshow(img_seed1*255, cmap=\"gray\"); plt.axis('off'); plt.title('8')\n",
    "plt.subplot(223); plt.imshow(img_seed2*255, cmap=\"gray\"); plt.axis('off'); plt.title('16')\n",
    "plt.subplot(224); plt.imshow(img_seed3*255, cmap=\"gray\"); plt.axis('off'); plt.title('24')"
   ]
  },
  {
   "cell_type": "code",
   "execution_count": null,
   "metadata": {},
   "outputs": [],
   "source": [
    "img_seed = np.zeros(img.shape)\n",
    "region_growing_average(img, img_seed, 25, [60,60])\n",
    "\n",
    "plt.figure(figsize=(12,6))\n",
    "plt.subplot(121); plt.imshow(img,cmap=\"gray\"); plt.axis('off')\n",
    "plt.subplot(122); plt.imshow(img_seed*255, cmap=\"gray\"); plt.axis('off');\n"
   ]
  },
  {
   "cell_type": "markdown",
   "metadata": {},
   "source": [
    "As shown in the last example, region groring methods are useful to segment specific regions. We can apply other steps on the top of the first one and compose the image"
   ]
  },
  {
   "cell_type": "code",
   "execution_count": null,
   "metadata": {},
   "outputs": [],
   "source": [
    "region_growing_average(img, img_seed, 25, [256,300])\n",
    "\n",
    "plt.figure(figsize=(12,6))\n",
    "plt.subplot(121); plt.imshow(img,cmap=\"gray\"); plt.axis('off')\n",
    "plt.subplot(122); plt.imshow(img_seed*255, cmap=\"gray\"); plt.axis('off');"
   ]
  },
  {
   "cell_type": "markdown",
   "metadata": {},
   "source": [
    "The way we implemented was using recursion, what can be not viable for large images if the number of recursive calls increases. Implementing a virtual stack is recommended in this scenario."
   ]
  }
 ],
 "metadata": {
  "kernelspec": {
   "display_name": "Python 3 (ipykernel)",
   "language": "python",
   "name": "python3"
  },
  "language_info": {
   "codemirror_mode": {
    "name": "ipython",
    "version": 3
   },
   "file_extension": ".py",
   "mimetype": "text/x-python",
   "name": "python",
   "nbconvert_exporter": "python",
   "pygments_lexer": "ipython3",
   "version": "3.10.6"
  }
 },
 "nbformat": 4,
 "nbformat_minor": 2
}
