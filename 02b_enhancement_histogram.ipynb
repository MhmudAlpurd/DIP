{
 "cells": [
  {
   "cell_type": "markdown",
   "metadata": {},
   "source": [
    "## 02 - part B - Image Enhancement using histograms\n"
   ]
  },
  {
   "cell_type": "code",
   "execution_count": null,
   "metadata": {},
   "outputs": [],
   "source": [
    "import numpy as np\n",
    "import imageio\n",
    "import matplotlib.pyplot as plt\n",
    "import random"
   ]
  },
  {
   "cell_type": "markdown",
   "metadata": {},
   "source": [
    "Instead of performing image enhancement with arbitrary transformations of each pixel value (in which the value is the only input of the transformation), it is possible to design transformations by using the image information. A widely employed technique in that sense is the histogram-based enhancement, that uses the image *histogram* as a source of information about the intensity distribution over the image.\n",
    "\n",
    "The histogram is computed by counting how many times each intensity level appears in the image."
   ]
  },
  {
   "cell_type": "code",
   "execution_count": null,
   "metadata": {},
   "outputs": [],
   "source": [
    "# np.random.randint allows creating arrays using integer\n",
    "# random numbers. \n",
    "# OBS: random.randint() can be used to produce a single random int value.\n",
    "# Below, a matrix 5x5 containing random values between 0 and 7\n",
    "A = np.random.randint(0,8,[5,5])\n",
    "print(A)"
   ]
  },
  {
   "cell_type": "markdown",
   "metadata": {},
   "source": [
    "A fairly simple way to compute the histogram (although there are more optimized ways to do that), is to loop through all intensity/graylevel values, and check how many pixels in the matrix has each value.\n",
    "\n",
    "Note that this is faster than looping through all pixels of the image."
   ]
  },
  {
   "cell_type": "code",
   "execution_count": null,
   "metadata": {},
   "outputs": [],
   "source": [
    "def histogram(A, no_levels):\n",
    "    # gets the size of the input matrix\n",
    "    N, M = A.shape\n",
    "    # creates an empty histogram with size proportional to the number of graylevels \n",
    "    hist = np.zeros(no_levels).astype(int)\n",
    "\n",
    "    # computes for all levels in the range\n",
    "    for i in range(no_levels):\n",
    "        # sum all positions in which A == i is true\n",
    "        pixels_value_i = np.sum(A == i)\n",
    "        # store it in the histogram array\n",
    "        hist[i] = pixels_value_i\n",
    "            \n",
    "    return(hist)"
   ]
  },
  {
   "cell_type": "markdown",
   "metadata": {},
   "source": [
    "To understand how the `np.where()` function works, you may uncomment the line that prints it in the loop of the function. Note it is an array of multiple arrays.\n",
    "\n",
    "Let us use the `histogram()` function, passing the random matrix as argument and the number of levels in the matrix. It returns the histogram as an array."
   ]
  },
  {
   "cell_type": "code",
   "execution_count": null,
   "metadata": {},
   "outputs": [],
   "source": [
    "hist_A = histogram(A, 8)\n",
    "print(hist_A)"
   ]
  },
  {
   "cell_type": "markdown",
   "metadata": {},
   "source": [
    "The histogram is usually shown using a bar plot. We are going to use `plt.bar()`, that gets as input the range of values in the histogram, and their counting, as follows:"
   ]
  },
  {
   "cell_type": "code",
   "execution_count": null,
   "metadata": {},
   "outputs": [],
   "source": [
    "plt.bar(range(8), hist_A)\n",
    "plt.xlabel('Graylevel / intensity')\n",
    "plt.ylabel('Frequency')"
   ]
  },
  {
   "cell_type": "markdown",
   "metadata": {},
   "source": [
    "Let us apply this function to compute the histogram of two real images, and show their plots. Note how the graylevels are distributed according to the different brightness and contrast characteristics of each image."
   ]
  },
  {
   "cell_type": "code",
   "execution_count": null,
   "metadata": {
    "scrolled": true
   },
   "outputs": [],
   "source": [
    "img1 = imageio.imread(\"images/nap.jpg\")\n",
    "img2 = imageio.imread(\"images/scarlett.jpg\")\n",
    "\n",
    "# computing histograms considering 256 graylevels\n",
    "hist_img1 = histogram(img1, 256)\n",
    "hist_img2 = histogram(img2, 256)\n",
    "\n",
    "# showing images and their respective histograms\n",
    "# note that the vmin and vmax parameters are used to show the images\n",
    "# those are set to ensure the image is going to be shown using all 256\n",
    "# graylevels, not normalizing it in the visualization\n",
    "plt.figure(figsize=(12,12)) \n",
    "plt.subplot(221)\n",
    "plt.imshow(img1, cmap=\"gray\", vmin=0, vmax=255)\n",
    "plt.axis('off')\n",
    "plt.subplot(223)\n",
    "plt.imshow(img2, cmap=\"gray\", vmin=0, vmax=255)\n",
    "plt.axis('off')\n",
    "\n",
    "plt.subplot(222)\n",
    "plt.bar(range(256), hist_img1)\n",
    "plt.xlabel('Intensity value')\n",
    "plt.ylabel('Frequency')\n",
    "\n",
    "plt.subplot(224)\n",
    "plt.bar(range(256), hist_img2)\n",
    "plt.xlabel('Intensity value')\n",
    "plt.ylabel('Frequency')\n",
    "plt.show()"
   ]
  },
  {
   "cell_type": "markdown",
   "metadata": {},
   "source": [
    "Note that the first image, *Nap*, is dominated by dark pixels, while the second image, *Scarlett* is brighter in general, therefore having a concentration of higher graylevels. \n",
    "The histogram therefore offers important information about the image.\n",
    "\n",
    "*We can use this information to design a transformation that is tailored for each image data*\n",
    "\n",
    "The main method is known as **Histogram Equalisation**.\n",
    "\n",
    "It uses the cumulative histogram as a function to transform the pixel values and enhance the image. The basic technique for equalisation is designed so that to distribute as uniform as possible the pixels along all range of possible grayvalues.\n",
    "\n",
    "After computing the cumulative histogram, in order to make it a proper transformation function, we have to scale it (as done with the log transformation, for example) to allow an output in the intervalo 0-255.\n",
    "\n",
    "The transformation, for each pixel *r* is given by: $$s = T(r) = \\frac{L-1}{MN} hc(r)$$ where *hc* is the cumulative histogram and *hc(r)* is the value of the cumulative histogram evaluated at the intensity level *r*"
   ]
  },
  {
   "cell_type": "code",
   "execution_count": null,
   "metadata": {},
   "outputs": [],
   "source": [
    "def histogram_equalization(A, no_levels):\n",
    "    # computes the image histogram\n",
    "    hist = histogram(A,  no_levels)\n",
    "    \n",
    "    # creates an empty cumulative histogram\n",
    "    histC = np.zeros(no_levels).astype(int)\n",
    "\n",
    "    # computes the cumulative histogram\n",
    "    histC[0] = hist[0] # first value (intensity 0)\n",
    "    # from intensity 1 to no_levels-1\n",
    "    for i in range(1,  no_levels):\n",
    "        histC[i] = hist[i] + histC[i-1]\n",
    "\n",
    "    # the vector below is used to store the actual transformation function\n",
    "    # it allows us to later visualize what was the function that computed\n",
    "    # the equalisation\n",
    "    hist_transform = np.zeros(no_levels).astype(np.uint8)\n",
    "    \n",
    "    # gets the size of the input image\n",
    "    N, M = A.shape\n",
    "    \n",
    "    # create the image to store the equalised version\n",
    "    A_eq = np.zeros([N,M]).astype(np.uint8)\n",
    "    \n",
    "    # for each intensity value, transforms it into a new intensity\n",
    "    # using the np.where() function \n",
    "    for z in range(no_levels):\n",
    "        # computes what would be the output level 's' for an input value 'z'\n",
    "        s = ((no_levels-1)/float(M*N))*histC[z]\n",
    "        \n",
    "        # for every coordinate in which matrix A has the value 'z'\n",
    "        # assigns the transformed/equalised value 's'\n",
    "        A_eq[ np.where(A == z) ] = s\n",
    "        \n",
    "        # store the tranformation function\n",
    "        hist_transform[z] = s\n",
    "    \n",
    "    return (A_eq, hist_transform)"
   ]
  },
  {
   "cell_type": "markdown",
   "metadata": {},
   "source": [
    "Let us equalise the images. Note that after processing, the histograms are more uniformly distributed over the possible graylevel range of values."
   ]
  },
  {
   "cell_type": "code",
   "execution_count": null,
   "metadata": {},
   "outputs": [],
   "source": [
    "img1_eq, img1_transf = histogram_equalization(img1, 256)\n",
    "img2_eq, img2_transf = histogram_equalization(img2, 256)\n"
   ]
  },
  {
   "cell_type": "code",
   "execution_count": null,
   "metadata": {},
   "outputs": [],
   "source": [
    "# compute the new histograms (after equalisation)\n",
    "histeq_img1 = histogram(img1_eq, 256)\n",
    "histeq_img2 = histogram(img2_eq, 256)\n",
    "\n",
    "# show all images, histograms and transformation functions\n",
    "\n",
    "plt.figure(figsize=(14,14)) \n",
    "plt.subplot(3,2,1)\n",
    "plt.imshow(img1, cmap=\"gray\", vmin=0, vmax=255)\n",
    "plt.axis('off')\n",
    "plt.subplot(3,2,2)\n",
    "plt.bar(range(256), hist_img1)\n",
    "plt.xlabel('Intensity value')\n",
    "plt.ylabel('Frequency')\n",
    "plt.subplot(3,2,4)\n",
    "plt.plot(range(256), img1_transf)\n",
    "plt.xlabel('input pixel value (r)')\n",
    "plt.ylabel('output pixel value (s)')\n",
    "\n",
    "plt.subplot(3,2,5)\n",
    "plt.imshow(img1_eq, cmap=\"gray\", vmin=0, vmax=255)\n",
    "plt.axis('off')\n",
    "plt.subplot(3,2,6)\n",
    "plt.bar(range(256), histeq_img1)\n",
    "plt.xlabel('Intensity value')\n",
    "plt.ylabel('Frequency')\n"
   ]
  },
  {
   "cell_type": "code",
   "execution_count": null,
   "metadata": {},
   "outputs": [],
   "source": [
    "plt.figure(figsize=(14,14)) \n",
    "\n",
    "plt.subplot(3,2,1)\n",
    "plt.imshow(img2, cmap=\"gray\", vmin=0, vmax=255)\n",
    "plt.title('original image')\n",
    "plt.axis('off')\n",
    "plt.subplot(3,2,2)\n",
    "plt.bar(range(256), hist_img2)\n",
    "plt.title('original histogram')\n",
    "plt.xlabel('Intensity value')\n",
    "plt.ylabel('Frequency')\n",
    "plt.subplot(3,2,4)\n",
    "plt.plot(range(256), img2_transf)\n",
    "plt.title('transformation function')\n",
    "plt.xlabel('input pixel value (r)')\n",
    "plt.ylabel('output pixel value (s)')\n",
    "\n",
    "plt.subplot(3,2,5)\n",
    "plt.imshow(img2_eq, cmap=\"gray\", vmin=0, vmax=255)\n",
    "plt.title('equalised image')\n",
    "plt.axis('off')\n",
    "plt.subplot(3,2,6)\n",
    "plt.bar(range(256), histeq_img2)\n",
    "plt.title('equalised histogram')\n",
    "plt.xlabel('Intensity value')\n",
    "plt.ylabel('Frequency')\n"
   ]
  },
  {
   "cell_type": "markdown",
   "metadata": {},
   "source": [
    "Note that, for some images, although the equalisation produced exactly what was expected - to better distribute the graylevels, the visual effect may not be pleasant. In this last case, the face of the woman became too dark, and the appearance of the wall behind her now shows new details that could not be easily spotted in the original image.\n",
    "\n",
    "Therefore, the histogram equalisation must be used only when knowing its effects would produce the desired enhancement."
   ]
  }
 ],
 "metadata": {
  "kernelspec": {
   "display_name": "Python 3 (ipykernel)",
   "language": "python",
   "name": "python3"
  },
  "language_info": {
   "codemirror_mode": {
    "name": "ipython",
    "version": 3
   },
   "file_extension": ".py",
   "mimetype": "text/x-python",
   "name": "python",
   "nbconvert_exporter": "python",
   "pygments_lexer": "ipython3",
   "version": "3.10.6"
  }
 },
 "nbformat": 4,
 "nbformat_minor": 2
}
