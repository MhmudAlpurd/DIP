{
 "cells": [
  {
   "cell_type": "markdown",
   "metadata": {},
   "source": [
    "## 02 - Image Enhancement using pixelwise operators\n",
    "\n",
    "This notebook shows how to enhance images by transforming the pixel values of some input image, into new pixel values producing a better output image"
   ]
  },
  {
   "cell_type": "code",
   "execution_count": null,
   "metadata": {},
   "outputs": [],
   "source": [
    "import numpy as np\n",
    "import imageio\n",
    "import matplotlib.pyplot as plt"
   ]
  },
  {
   "cell_type": "markdown",
   "metadata": {},
   "source": [
    "Pixel-wise operations transform input pixels $z$ that are within some intensity level interval, such as $[0,255]$, into an output pixel $s$.\n",
    "\n",
    "To illustrate different operators, let us create a vetor with the 256 possible graylevels and work with that to show different types of transformations"
   ]
  },
  {
   "cell_type": "code",
   "execution_count": null,
   "metadata": {},
   "outputs": [],
   "source": [
    "# numpy's arange creates a vetor of a range of values - below, in the interval [0,256)\n",
    "z = np.arange(256)\n",
    "print(z)"
   ]
  },
  {
   "cell_type": "markdown",
   "metadata": {},
   "source": [
    "The `np.arange()` function allows more parameters, in the format `np.arange(start, end, step)`. In such case the functions returns an array whose first value is defined by `start`, the last value is less than `end` and with increment defined by `step`. For example:"
   ]
  },
  {
   "cell_type": "code",
   "execution_count": null,
   "metadata": {},
   "outputs": [],
   "source": [
    "print(np.arange(1, 3, 0.25))"
   ]
  },
  {
   "cell_type": "markdown",
   "metadata": {},
   "source": [
    "#### Pixel-wise, or point operators\n",
    "Transform the value $z$ of some input pixel in a new value $s$ via a transformation of the graylevel interval, e.g. 0 to 255. This can be written as: $$s = T(z)$$\n",
    "\n",
    "For instance, the identity transformation copies the values, without transformation, i.e.:\n",
    "$$s = T(z) = z$$\n",
    "\n",
    "The inversion or negative transformation, is given by:\n",
    "$$s = T(z) = 255-z$$"
   ]
  },
  {
   "cell_type": "code",
   "execution_count": null,
   "metadata": {},
   "outputs": [],
   "source": [
    "s_ident = z\n",
    "s_inver = 255-z"
   ]
  },
  {
   "cell_type": "markdown",
   "metadata": {},
   "source": [
    "Because the variable r is actually an array of values (between 0 and 255) we can then plot/visualize the transformation or mapping: one axis shows the $r$ or input values and the other the $s$ or output values:"
   ]
  },
  {
   "cell_type": "code",
   "execution_count": null,
   "metadata": {},
   "outputs": [],
   "source": [
    "plt.figure(figsize=(6,6)) # makes sure the figure will appear with a square size (not rectangular)\n",
    "plt.plot(z, s_inver) # plots r against s"
   ]
  },
  {
   "cell_type": "markdown",
   "metadata": {},
   "source": [
    "If we can show the transformation in a plot, we can do the same with actual images.\n",
    "\n",
    "Let us load images and perform the inversion operation to illustrate it"
   ]
  },
  {
   "cell_type": "code",
   "execution_count": null,
   "metadata": {},
   "outputs": [],
   "source": [
    "img1 = imageio.imread(\"images/quote2.png\")\n",
    "img2 = imageio.imread(\"images/scarlett.jpg\")\n",
    "\n",
    "# performing the transformation\n",
    "img1_invert = 255-img1\n",
    "img2_invert = 255-img2"
   ]
  },
  {
   "cell_type": "code",
   "execution_count": null,
   "metadata": {},
   "outputs": [],
   "source": [
    "plt.figure(figsize=(12,12)) \n",
    " \n",
    "# defines a panel to show the images side by side\n",
    "plt.subplot(121) # panel with 1 row, 2 columns, to show the image at the first (1st) position\n",
    "plt.imshow(img1, cmap=\"gray\")\n",
    "plt.axis('off') # remove axis with numbers\n",
    "\n",
    "plt.subplot(122) # panel with 1 row, 2 columns, to show the image at the second (2nd) position\n",
    "plt.imshow(img1_invert, cmap=\"gray\")\n",
    "plt.axis('off')\n",
    "\n"
   ]
  },
  {
   "cell_type": "code",
   "execution_count": null,
   "metadata": {},
   "outputs": [],
   "source": [
    "plt.figure(figsize=(15,15)) \n",
    " \n",
    "# defines a panel to show the images side by side\n",
    "plt.subplot(121) # panel with 1 row, 2 columns, to show the image at the first (1st) position\n",
    "plt.imshow(img2, cmap=\"gray\")\n",
    "plt.axis('off') # remove axis with numbers\n",
    "\n",
    "plt.subplot(122) # panel with 1 row, 2 columns, to show the image at the second (2nd) position\n",
    "plt.imshow(img2_invert, cmap=\"gray\")\n",
    "plt.axis('off')"
   ]
  },
  {
   "cell_type": "markdown",
   "metadata": {},
   "source": [
    "#### Logarithmic enhancement\n",
    "\n",
    "Mathematical functions are useful to enhance images. \n",
    "\n",
    "The $\\log$ function in particular decreases the dynamic range between the gray levels so that dark pixels become more bright, while not oversaturating the already bright pixels.\n",
    "\n",
    "However, it is important to find a log-based transformation to map values between 0 and 255 to values also in the same range. If we just apply a log, for example, using base 2:\n",
    "\n",
    "$$s = \\log_2(z)$$ assuming $$z = 128$$ we would have:\n",
    "\n",
    "$$s = \\log_2(128) = 7$$ which decreased the dynamic range of the gray levels too much and would hamper visualization.\n",
    "\n",
    "Let us plot this."
   ]
  },
  {
   "cell_type": "code",
   "execution_count": null,
   "metadata": {},
   "outputs": [],
   "source": [
    "z_log2 = np.log2(z + 1)\n",
    "plt.figure(figsize=(6,6))\n",
    "plt.plot(z, z_log2)"
   ]
  },
  {
   "cell_type": "markdown",
   "metadata": {},
   "source": [
    "We need correction factor to rescale the output into the desired one. This factor is defined as:\n",
    "$$ \\frac{L}{\\log_2(1+L)}$$\n",
    "in which $L$ is the maximum gray levels in the reescaled image, e.g. 255."
   ]
  },
  {
   "cell_type": "code",
   "execution_count": null,
   "metadata": {},
   "outputs": [],
   "source": [
    "c_scale = 255 / (np.log2(1+255))\n",
    "z_log2 = c_scale * np.log2(z + 1)\n",
    "plt.figure(figsize=(6,6)) \n",
    "plt.plot(z, z_log2)"
   ]
  },
  {
   "cell_type": "markdown",
   "metadata": {},
   "source": [
    "Let us apply this in an image now."
   ]
  },
  {
   "cell_type": "code",
   "execution_count": null,
   "metadata": {},
   "outputs": [],
   "source": [
    "img3 = imageio.imread(\"images/nap.jpg\")\n",
    "# using the same scale factor, for 255\n",
    "img3_log2 = (c_scale * np.log2(1 + img3.astype(np.int32))).astype(np.uint8)"
   ]
  },
  {
   "cell_type": "code",
   "execution_count": null,
   "metadata": {},
   "outputs": [],
   "source": [
    "plt.figure(figsize=(15,15)) \n",
    " \n",
    "plt.subplot(121)\n",
    "plt.imshow(img3, cmap=\"gray\")\n",
    "plt.subplot(122)\n",
    "plt.imshow(img3_log2, cmap=\"gray\")"
   ]
  },
  {
   "cell_type": "markdown",
   "metadata": {},
   "source": [
    "#### Thresholding\n",
    "\n",
    "Often applied as a simple segmentation method, it is a step function that outputs only two values, relative to pixels outside or within regions of interest"
   ]
  },
  {
   "cell_type": "code",
   "execution_count": null,
   "metadata": {},
   "outputs": [],
   "source": [
    "# defining some arbitrary threshold T\n",
    "T = 100\n",
    "\n",
    "# the where function returns all coordinates matching the conditional\n",
    "indL = np.where(img1 > T)\n",
    "\n",
    "# create a new image with the same size of the input \n",
    "img1_thresh = np.zeros(img1.shape)\n",
    "\n",
    "img1_thresh[indL] = 1 # assigns 1 to all pixels above the threshold value"
   ]
  },
  {
   "cell_type": "code",
   "execution_count": null,
   "metadata": {},
   "outputs": [],
   "source": [
    "plt.figure(figsize=(12,12)) \n",
    " \n",
    "plt.subplot(121)\n",
    "plt.imshow(img1, cmap=\"gray\")\n",
    "plt.subplot(122)\n",
    "plt.imshow(img1_thresh, cmap=\"gray\")"
   ]
  },
  {
   "cell_type": "markdown",
   "metadata": {},
   "source": [
    "#### Gamma curve correction\n",
    "\n",
    "Adjust the graylevels using a power transformation. This is useful to adjust the display, so that it better suits the human vision light perception curve\n",
    "\n",
    "This transformation is given by:\n",
    "$$s = T(z) = r^{\\gamma}$$\n",
    "\n",
    "Note, again that we need to make sure the output matches the range of graylevels. In this case we are going to first normalize the pixels to 0-1 interval, and then reescale back to 0-255 as follows.\n",
    "\n",
    "To illustrate, let us also visualize the transformation curve for multiple values of $\\gamma$."
   ]
  },
  {
   "cell_type": "code",
   "execution_count": null,
   "metadata": {},
   "outputs": [],
   "source": [
    "R = 255.00 # maximum graylevel\n",
    "\n",
    "plt.figure(figsize=(6,6))\n",
    "\n",
    "# plotting the gamma adjustment function for different Gamma values: between 0.25 and 3.75 with step 0.25\n",
    "for gamma in np.arange(0.25, 4.0, 0.25):\n",
    "    z_gamma = (R * np.power(z / R, gamma)).astype(np.uint8)\n",
    "    plt.plot(z, z_gamma)    "
   ]
  },
  {
   "cell_type": "markdown",
   "metadata": {},
   "source": [
    "Note that for $\\gamma < 1$ it may have effects that is similar to a logarithmic function (increase the dynamic range of dark pixels) as for the orange curve that shows the square root transformation (gamma=0.5), or instead, for $\\gamma > 1$, increase the dynamic range of bright pixels."
   ]
  },
  {
   "cell_type": "markdown",
   "metadata": {},
   "source": [
    "#### Logistic function\n",
    "Enhances contrast using sigmoid logistic function, that has an \"S\" shape.\n",
    "\n",
    "The parameter k controls the smoothness of the function"
   ]
  },
  {
   "cell_type": "code",
   "execution_count": null,
   "metadata": {},
   "outputs": [],
   "source": [
    "k = 0.025\n",
    "s_sigmoid = (255/(1+np.exp(-k*(z-127)))).astype(np.uint8)"
   ]
  },
  {
   "cell_type": "code",
   "execution_count": null,
   "metadata": {},
   "outputs": [],
   "source": [
    "plt.figure(figsize=(6,6))\n",
    "plt.plot(z,s_sigmoid)"
   ]
  },
  {
   "cell_type": "code",
   "execution_count": null,
   "metadata": {},
   "outputs": [],
   "source": [
    "k = 0.03\n",
    "img2_sigm = (255/(1+np.exp(-k*(img2.astype(np.int32)-127)))).astype(np.uint8)\n",
    "\n",
    "plt.figure(figsize=(15,15)) \n",
    "plt.subplot(121)\n",
    "plt.imshow(img2, cmap=\"gray\")\n",
    "plt.subplot(122)\n",
    "plt.imshow(img2_sigm, cmap=\"gray\")"
   ]
  },
  {
   "cell_type": "markdown",
   "metadata": {},
   "source": [
    "#### Bit plane slicing\n",
    "\n",
    "We can slice the graylevels in terms of the bits contained in each one of the 8 positions. This may reveal interesting information to better understand where are the most relevant data, and to understand the noise that is often contained in the least significant bits."
   ]
  },
  {
   "cell_type": "code",
   "execution_count": null,
   "metadata": {},
   "outputs": [],
   "source": [
    "img2 = imageio.imread(\"images/scarlett_edited.jpg\")\n",
    "\n",
    "plt.figure(figsize=(10,10))\n",
    "\n",
    "## bit-wise operator AND using mask defined by the bits below\n",
    "img2_b1 = img2 & 0b10000000\n",
    "img2_b2 = img2 & 0b01000000\n",
    "img2_b3 = img2 & 0b00100000\n",
    "img2_b4 = img2 & 0b00010000\n",
    "img2_b5 = img2 & 0b00001000\n",
    "img2_b6 = img2 & 0b00000100\n",
    "img2_b7 = img2 & 0b00000010\n",
    "img2_b8 = img2 & 0b00000001\n",
    "\n",
    "plt.subplot(331)\n",
    "plt.imshow(img2, cmap='gray')\n",
    "plt.axis('off')\n",
    "plt.subplot(332)\n",
    "plt.imshow(img2_b1, cmap='gray')\n",
    "plt.axis('off')\n",
    "plt.subplot(333)\n",
    "plt.imshow(img2_b2, cmap='gray')\n",
    "plt.axis('off')\n",
    "plt.subplot(334)\n",
    "plt.imshow(img2_b3, cmap='gray')\n",
    "plt.axis('off')\n",
    "plt.subplot(335)\n",
    "plt.imshow(img2_b4, cmap='gray')\n",
    "plt.axis('off')\n",
    "plt.subplot(336)\n",
    "plt.imshow(img2_b5, cmap='gray')\n",
    "plt.axis('off')\n",
    "plt.subplot(337)\n",
    "plt.imshow(img2_b6, cmap='gray')\n",
    "plt.axis('off')\n",
    "plt.subplot(338)\n",
    "plt.imshow(img2_b7, cmap='gray')\n",
    "plt.axis('off')\n",
    "plt.subplot(339)\n",
    "plt.imshow(img2_b8, cmap='gray')\n",
    "plt.axis('off')"
   ]
  },
  {
   "cell_type": "code",
   "execution_count": null,
   "metadata": {},
   "outputs": [],
   "source": []
  }
 ],
 "metadata": {
  "kernelspec": {
   "display_name": "Python 3 (ipykernel)",
   "language": "python",
   "name": "python3"
  },
  "language_info": {
   "codemirror_mode": {
    "name": "ipython",
    "version": 3
   },
   "file_extension": ".py",
   "mimetype": "text/x-python",
   "name": "python",
   "nbconvert_exporter": "python",
   "pygments_lexer": "ipython3",
   "version": "3.10.6"
  }
 },
 "nbformat": 4,
 "nbformat_minor": 2
}
